{
  "cells": [
    {
      "cell_type": "code",
      "execution_count": null,
      "metadata": {
        "id": "1rRo8oNqZ-Rj"
      },
      "outputs": [],
      "source": [
        "# Import libraries. You may or may not use all of these.\n",
        "!pip install -q git+https://github.com/tensorflow/docs\n",
        "import matplotlib.pyplot as plt\n",
        "import numpy as np\n",
        "import pandas as pd\n",
        "\n",
        "try:\n",
        "  # %tensorflow_version only exists in Colab.\n",
        "  %tensorflow_version 2.x\n",
        "except Exception:\n",
        "  pass\n",
        "import tensorflow as tf\n",
        "\n",
        "from tensorflow import keras\n",
        "from keras import layers\n",
        "\n",
        "import tensorflow_docs as tfdocs\n",
        "import tensorflow_docs.plots\n",
        "import tensorflow_docs.modeling"
      ]
    },
    {
      "cell_type": "code",
      "execution_count": null,
      "metadata": {
        "id": "CiX2FI4gZtTt"
      },
      "outputs": [],
      "source": [
        "# Import data\n",
        "!wget https://cdn.freecodecamp.org/project-data/health-costs/insurance.csv\n",
        "dataset = pd.read_csv('insurance.csv')\n",
        "dataset.tail()"
      ]
    },
    {
      "cell_type": "code",
      "execution_count": null,
      "metadata": {
        "id": "LcopvQh3X-kX"
      },
      "outputs": [],
      "source": [
        "dataset.isnull().sum() # Check if there are missing values"
      ]
    },
    {
      "cell_type": "code",
      "source": [
        "# I'm going to OneHotEncode the categorical columns with the get.dummies function\n",
        "\n",
        "encoded_dataset = pd.get_dummies(dataset, columns=['sex', 'smoker', 'region'], dtype=int)\n",
        "encoded_dataset\n",
        "dataset = pd.concat([dataset, encoded_dataset], axis=1)\n",
        "dataset.drop('sex', axis=1, inplace=True)\n",
        "dataset.drop('smoker', axis=1, inplace=True)\n",
        "dataset.drop('region', axis=1, inplace=True)\n",
        "dataset"
      ],
      "metadata": {
        "id": "JY1-5F3DwdXx"
      },
      "execution_count": null,
      "outputs": []
    },
    {
      "cell_type": "code",
      "source": [
        "train_cols = dataset.columns.drop('expenses')\n",
        "X = dataset[train_cols].values\n",
        "y = dataset['expenses'].values"
      ],
      "metadata": {
        "id": "x4ft2VeslRNd"
      },
      "execution_count": null,
      "outputs": []
    },
    {
      "cell_type": "code",
      "source": [
        "from sklearn.model_selection import train_test_split\n",
        "# With train_test_split method split the dataset into 80% train data and 20% test data\n",
        "train_dataset, test_dataset, train_labels, test_labels = train_test_split(X, y, train_size=0.8)"
      ],
      "metadata": {
        "id": "GtAOVa_uxOnO"
      },
      "execution_count": null,
      "outputs": []
    },
    {
      "cell_type": "code",
      "source": [
        "from keras import callbacks\n",
        "# Model creation\n",
        "model = keras.Sequential([\n",
        "        layers.Dense(units=64, input_dim=X.shape[1], activation = 'relu' ),\n",
        "        layers.Dense(32, activation='relu'),\n",
        "        layers.Dense(1)\n",
        "        ])\n",
        "\n",
        "# Compile the model using adam and mae\n",
        "model.compile(\n",
        "    optimizer='adam',\n",
        "    loss ='mae',\n",
        "    metrics=['mean_absolute_error', 'mean_squared_error']\n",
        ")\n",
        "\n",
        "early_stopping = callbacks.EarlyStopping(monitor='val_loss', min_delta=0.001, patience=10, restore_best_weights=True)\n",
        "\n",
        "model.fit(train_dataset, train_labels,\n",
        "          validation_data = (test_dataset, test_labels),\n",
        "          epochs = 1000,\n",
        "          callbacks = [early_stopping],\n",
        "          verbose = 2\n",
        "          )"
      ],
      "metadata": {
        "id": "IH2-LVUkxpXT"
      },
      "execution_count": null,
      "outputs": []
    },
    {
      "cell_type": "code",
      "execution_count": null,
      "metadata": {
        "id": "Xe7RXH3N3CWU"
      },
      "outputs": [],
      "source": [
        "# RUN THIS CELL TO TEST YOUR MODEL. DO NOT MODIFY CONTENTS.\n",
        "# Test model by checking how well the model generalizes using the test set.\n",
        "loss, mae, mse = model.evaluate(test_dataset, test_labels, verbose=2)\n",
        "\n",
        "print(\"Testing set Mean Abs Error: {:5.2f} expenses\".format(mae))\n",
        "\n",
        "if mae < 3500:\n",
        "  print(\"You passed the challenge. Great job!\")\n",
        "else:\n",
        "  print(\"The Mean Abs Error must be less than 3500. Keep trying.\")\n",
        "\n",
        "# Plot predictions.\n",
        "# For some reason the plot failed so i commented it\n",
        "'''test_predictions = model.predict(test_dataset).flatten()\n",
        "\n",
        "a = plt.axes(aspect='equal')\n",
        "plt.scatter(test_labels, test_predictions)\n",
        "plt.xlabel('True values (expenses)')\n",
        "plt.ylabel('Predictions (expenses)')\n",
        "lims = [0, 50000]\n",
        "plt.xlim(lims)\n",
        "plt.ylim(lims)\n",
        "_ = plt.plot(lims,lims)'''"
      ]
    }
  ],
  "metadata": {
    "colab": {
      "name": "fcc_predict_health_costs_with_regression.ipynb",
      "private_outputs": true,
      "provenance": []
    },
    "kernelspec": {
      "display_name": "Python 3",
      "name": "python3"
    }
  },
  "nbformat": 4,
  "nbformat_minor": 0
}